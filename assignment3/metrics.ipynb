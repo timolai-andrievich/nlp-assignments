{
 "cells": [
  {
   "cell_type": "code",
   "execution_count": 1,
   "metadata": {},
   "outputs": [],
   "source": [
    "from sklearn.model_selection import train_test_split\n",
    "import pandas as pd\n",
    "import prettytable\n",
    "import torch\n",
    "\n",
    "from ner import HuggingfacePredictor, NaivePredictor, NGramPredictor\n",
    "from ner.utils import char_wise_f1_score_macro, BasePredictor"
   ]
  },
  {
   "cell_type": "code",
   "execution_count": 2,
   "metadata": {},
   "outputs": [],
   "source": [
    "N_LABELS = 30\n",
    "SEED = 42"
   ]
  },
  {
   "cell_type": "code",
   "execution_count": 3,
   "metadata": {},
   "outputs": [],
   "source": [
    "train_df = pd.read_json('data/train.jsonl', lines=True)\n",
    "train_df, test_df = train_test_split(train_df, test_size=.1, random_state=SEED)"
   ]
  },
  {
   "cell_type": "code",
   "execution_count": 4,
   "metadata": {},
   "outputs": [],
   "source": [
    "device = 'cuda' if torch.cuda.is_available() else 'cpu'"
   ]
  },
  {
   "cell_type": "code",
   "execution_count": 5,
   "metadata": {},
   "outputs": [
    {
     "data": {
      "application/vnd.jupyter.widget-view+json": {
       "model_id": "a280f5d2b1534e4898c735169d75cccc",
       "version_major": 2,
       "version_minor": 0
      },
      "text/plain": [
       "config.json:   0%|          | 0.00/2.09k [00:00<?, ?B/s]"
      ]
     },
     "metadata": {},
     "output_type": "display_data"
    },
    {
     "data": {
      "application/vnd.jupyter.widget-view+json": {
       "model_id": "5c95600f357c400c8c80ea806cb650a6",
       "version_major": 2,
       "version_minor": 0
      },
      "text/plain": [
       "model.safetensors:   0%|          | 0.00/1.88G [00:00<?, ?B/s]"
      ]
     },
     "metadata": {},
     "output_type": "display_data"
    },
    {
     "data": {
      "application/vnd.jupyter.widget-view+json": {
       "model_id": "37e9464a57434d7a8c45b9092bc129d6",
       "version_major": 2,
       "version_minor": 0
      },
      "text/plain": [
       "tokenizer_config.json:   0%|          | 0.00/1.30k [00:00<?, ?B/s]"
      ]
     },
     "metadata": {},
     "output_type": "display_data"
    },
    {
     "data": {
      "application/vnd.jupyter.widget-view+json": {
       "model_id": "b3cb6c8c6ca4463db22b99f4bd6927cf",
       "version_major": 2,
       "version_minor": 0
      },
      "text/plain": [
       "tokenizer.json:   0%|          | 0.00/13.6M [00:00<?, ?B/s]"
      ]
     },
     "metadata": {},
     "output_type": "display_data"
    }
   ],
   "source": [
    "predictors = {\n",
    "    'Naive': NaivePredictor(),\n",
    "    'BERT': HuggingfacePredictor(device=device),\n",
    "    '2-gram': NGramPredictor(2),\n",
    "    '3-gram': NGramPredictor(3),\n",
    "}"
   ]
  },
  {
   "cell_type": "code",
   "execution_count": 6,
   "metadata": {},
   "outputs": [
    {
     "data": {
      "application/vnd.jupyter.widget-view+json": {
       "model_id": "a7074d5262eb4a11bb2778de5d8c0dea",
       "version_major": 2,
       "version_minor": 0
      },
      "text/plain": [
       "Fitting on the training data:   0%|          | 0/467 [00:00<?, ?it/s]"
      ]
     },
     "metadata": {},
     "output_type": "display_data"
    },
    {
     "data": {
      "application/vnd.jupyter.widget-view+json": {
       "model_id": "0c7cf67e38eb4a94b6e25d57e4e1772c",
       "version_major": 2,
       "version_minor": 0
      },
      "text/plain": [
       "Fitting on the training data:   0%|          | 0/467 [00:00<?, ?it/s]"
      ]
     },
     "metadata": {},
     "output_type": "display_data"
    },
    {
     "data": {
      "application/vnd.jupyter.widget-view+json": {
       "model_id": "902dc736cb5f48a78b6ad105a3a03c2c",
       "version_major": 2,
       "version_minor": 0
      },
      "text/plain": [
       "Fitting on the training data:   0%|          | 0/467 [00:00<?, ?it/s]"
      ]
     },
     "metadata": {},
     "output_type": "display_data"
    }
   ],
   "source": [
    "for predictor in predictors.values():\n",
    "    predictor.fit(train_df['sentences'], train_df['ners'])"
   ]
  },
  {
   "cell_type": "code",
   "execution_count": 7,
   "metadata": {},
   "outputs": [],
   "source": [
    "def get_f1_score(test_df: pd.DataFrame, predictor: BasePredictor):\n",
    "    f1_scores = []\n",
    "    for text, target in zip(test_df['sentences'], test_df['ners']):\n",
    "        pred = predictor(text)\n",
    "        f1_score = char_wise_f1_score_macro(pred, target, n_labels=N_LABELS)\n",
    "        f1_scores.append(f1_score)\n",
    "    avg_f1_score = sum(f1_scores) / len(f1_scores)\n",
    "    return avg_f1_score"
   ]
  },
  {
   "cell_type": "code",
   "execution_count": 8,
   "metadata": {},
   "outputs": [],
   "source": [
    "%%capture\n",
    "predictor_scores = {\n",
    "    name: get_f1_score(test_df, predictor)\n",
    "    for name, predictor in predictors.items()\n",
    "}"
   ]
  },
  {
   "cell_type": "code",
   "execution_count": 9,
   "metadata": {},
   "outputs": [
    {
     "name": "stdout",
     "output_type": "stream",
     "text": [
      "+-----------+---------+\n",
      "| Predictor |    F1   |\n",
      "+-----------+---------+\n",
      "|   Naive   | 0.72595 |\n",
      "|    BERT   | 0.93927 |\n",
      "|   2-gram  | 0.68089 |\n",
      "|   3-gram  | 0.53300 |\n",
      "+-----------+---------+\n"
     ]
    }
   ],
   "source": [
    "table = prettytable.PrettyTable(['Predictor', 'F1'])\n",
    "for name, score in predictor_scores.items():\n",
    "    table.add_row((name, f'{score:.5f}'))\n",
    "print(table)"
   ]
  },
  {
   "cell_type": "code",
   "execution_count": null,
   "metadata": {},
   "outputs": [],
   "source": []
  }
 ],
 "metadata": {
  "kernelspec": {
   "display_name": "henv",
   "language": "python",
   "name": "python3"
  },
  "language_info": {
   "codemirror_mode": {
    "name": "ipython",
    "version": 3
   },
   "file_extension": ".py",
   "mimetype": "text/x-python",
   "name": "python",
   "nbconvert_exporter": "python",
   "pygments_lexer": "ipython3",
   "version": "3.11.8"
  }
 },
 "nbformat": 4,
 "nbformat_minor": 2
}
