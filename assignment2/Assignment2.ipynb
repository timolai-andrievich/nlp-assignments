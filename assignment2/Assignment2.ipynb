{
  "cells": [
    {
      "cell_type": "markdown",
      "metadata": {
        "id": "DIgM6C9HYUhm"
      },
      "source": [
        "# Context-sensitive Spelling Correction\n",
        "\n",
        "The goal of the assignment is to implement context-sensitive spelling correction. The input of the code will be a set of text lines and the output will be the same lines with spelling mistakes fixed.\n",
        "\n",
        "Submit the solution of the assignment to Moodle as a link to your GitHub repository containing this notebook.\n",
        "\n",
        "Useful links:\n",
        "- [Norvig's solution](https://norvig.com/spell-correct.html)\n",
        "- [Norvig's dataset](https://norvig.com/big.txt)\n",
        "- [Ngrams data](https://www.ngrams.info/download_coca.asp)\n",
        "\n",
        "Grading:\n",
        "- 60 points - Implement spelling correction\n",
        "- 20 points - Justify your decisions\n",
        "- 20 points - Evaluate on a test set\n"
      ]
    },
    {
      "cell_type": "markdown",
      "metadata": {
        "id": "x-vb8yFOGRDF"
      },
      "source": [
        "## Implement context-sensitive spelling correction\n",
        "\n",
        "Your task is to implement context-sensitive spelling corrector using N-gram language model. The idea is to compute conditional probabilities of possible correction options. For example, the phrase \"dking sport\" should be fixed as \"doing sport\" not \"dying sport\", while \"dking species\" -- as \"dying species\".\n",
        "\n",
        "The best way to start is to analyze [Norvig's solution](https://norvig.com/spell-correct.html) and [N-gram Language Models](https://web.stanford.edu/~jurafsky/slp3/3.pdf).\n",
        "\n",
        "You may also want to implement:\n",
        "- spell-checking for a concrete language - Russian, Tatar, etc. - any one you know, such that the solution accounts for language specifics,\n",
        "- some recent (or not very recent) paper on this topic,\n",
        "- solution which takes into account keyboard layout and associated misspellings,\n",
        "- efficiency improvement to make the solution faster,\n",
        "- any other idea of yours to improve the Norvig’s solution.\n",
        "\n",
        "IMPORTANT:  \n",
        "Your project should not be a mere code copy-paste from somewhere. You must provide:\n",
        "- Your implementation\n",
        "- Analysis of why the implemented approach is suggested\n",
        "- Improvements of the original approach that you have chosen to implement"
      ]
    },
    {
      "cell_type": "markdown",
      "metadata": {},
      "source": [
        "Checklist (TODO: delete before submission):\n",
        "- [x] Implement unigram model\n",
        "- [x] Implement n-gram model\n",
        "- [ ] Implement fasttext model\n",
        "- [x] Implement Levenstein error model\n",
        "- [ ] Implement QWERTY-aware error model\n",
        "- [ ] Construct a test set"
      ]
    },
    {
      "cell_type": "code",
      "execution_count": 3,
      "metadata": {
        "id": "MoQeEsZvHvvi"
      },
      "outputs": [],
      "source": [
        "from abc import ABC, abstractmethod\n",
        "from collections import defaultdict\n",
        "\n",
        "import tqdm.notebook as tqdm\n",
        "import numpy as np"
      ]
    },
    {
      "cell_type": "code",
      "execution_count": 4,
      "metadata": {},
      "outputs": [],
      "source": [
        "class LanguageModel(ABC):\n",
        "    \"\"\"Abstract context-aware language model.\n",
        "    \"\"\"\n",
        "\n",
        "    @abstractmethod\n",
        "    def __call__(self, candidates: list[str], pretext: list[str],\n",
        "                 posttext: list[str]) -> dict[str, float]:\n",
        "        \"\"\"Predict the probability of the word given the context.\n",
        "        \n",
        "        Args:\n",
        "            candidates (list[str]): Set of candidate replacements.\n",
        "            pretext (list[str]): Context preceeding the word.\n",
        "            posttext (list[str]): Context after the word.\n",
        "        \n",
        "        Returns:\n",
        "            dict[str, float]: Mapping from candidate set to the probability of\n",
        "                the candidate in the context.\n",
        "        \"\"\"\n",
        "        pass"
      ]
    },
    {
      "cell_type": "code",
      "execution_count": 5,
      "metadata": {},
      "outputs": [],
      "source": [
        "class ErrorModel(ABC):\n",
        "    \"\"\"Abstract model for typo probabilities.\n",
        "    \"\"\"\n",
        "    @abstractmethod\n",
        "    def __call__(self, word: str, candidate: str) -> float:\n",
        "        \"\"\"Returns the probability of word being a misspelled candidate word.\n",
        "        \n",
        "        Args:\n",
        "            word (str): Word that is typed.\n",
        "            candidate (str): Misspeling correction candidate.\n",
        "\n",
        "        Returns:\n",
        "            float: Probability of word being a misspelled candidate word.\n",
        "        \"\"\"\n",
        "        pass"
      ]
    },
    {
      "cell_type": "code",
      "execution_count": 6,
      "metadata": {},
      "outputs": [],
      "source": [
        "class Corrector:\n",
        "    \"\"\"Context-aware text corrector.\n",
        "\n",
        "    Attributes:\n",
        "        candidates (set[str]): Set of candidate words to choose from.\n",
        "        language_model (LanguageModel): Context-aware language model to\n",
        "            predict probabilities of words occuring in a given context.\n",
        "        error_model (ErrorModel): Model for predicting the probability\n",
        "            of mispelling one word as another.\n",
        "        context_size (int): Size of the context given to the language\n",
        "            model. Does not include the word itselt. Counted individually\n",
        "            for each direction (in the text \"a b c d e\", context of \"c\" is\n",
        "            (\"b\", \"d\"), given `context_size` = 1.) Defaults to 10.\n",
        "    \"\"\"\n",
        "\n",
        "    def __init__(\n",
        "        self,\n",
        "        candidates: set[str],\n",
        "        language_model: LanguageModel,\n",
        "        error_model: ErrorModel,\n",
        "        context_size: int = 10,\n",
        "    ):\n",
        "        \"\"\"Context-aware text corrector.\n",
        "\n",
        "        Args:\n",
        "            candidates (set[str]): Set of candidate words to choose from.\n",
        "            language_model (LanguageModel): Context-aware language model to\n",
        "                predict probabilities of words occuring in a given context.\n",
        "            error_model (ErrorModel): Model for predicting the probability\n",
        "                of mispelling one word as another.\n",
        "            context_size (int): Size of the context given to the language\n",
        "                model. Does not include the word itselt. Counted individually\n",
        "                for each direction (in the text \"a b c d e\", context of \"c\" is\n",
        "                (\"b\", \"d\"), given `context_size` = 1.) Defaults to 10.\n",
        "        \"\"\"\n",
        "        self.candidates = candidates\n",
        "        self.language_model = language_model\n",
        "        self.error_model = error_model\n",
        "        self.context_size = context_size\n",
        "\n",
        "    def __call__(self,\n",
        "                 text: list[str],\n",
        "                 verbose: bool = False) -> list[tuple[str, float, float]]:\n",
        "        \"\"\"Returns the most likely candidate, probability of the candidate,\n",
        "        and the probability of the original word occuring in a 2 *`context_size`\n",
        "        context window.\n",
        "\n",
        "        Args:\n",
        "            text (list[str]): Text to correct. \n",
        "            verbose (bool): Whether to display the progress bar or not. Defaults\n",
        "                to `False`.\n",
        "        \n",
        "        Returns:\n",
        "            list[tuple[str, float, float]]: The candidate word, probability of\n",
        "                candidate, and probability of the original word corresponding\n",
        "                to each word in the original text.\n",
        "        \"\"\"\n",
        "        result = [None] * len(text)\n",
        "        for i, word in tqdm.tqdm(enumerate(text),\n",
        "                                 total=len(text),\n",
        "                                 disable=not verbose):\n",
        "            pretext = text[max(0, i - self.context_size):i]\n",
        "            posttext = text[i + 1:i + self.context_size + 1]\n",
        "            candidates = self.candidates.copy() - {word}\n",
        "            candidate_probs = self.language_model(candidates, pretext,\n",
        "                                                  posttext)\n",
        "            word_prob = self.language_model({word}, pretext, posttext)[word]\n",
        "\n",
        "            def get_prob(candidate):\n",
        "                return self.error_model(word,\n",
        "                                        candidate) * candidate_probs[candidate]\n",
        "\n",
        "            correction = max(candidates, key=get_prob)\n",
        "            probability = get_prob(correction)\n",
        "            result[i] = (correction, probability, word_prob)\n",
        "        return result\n"
      ]
    },
    {
      "cell_type": "code",
      "execution_count": 7,
      "metadata": {},
      "outputs": [],
      "source": [
        "class NGramLanguageModel(LanguageModel):\n",
        "    # TODO docs\n",
        "    \"\"\"N-gram language model.\n",
        "    \"\"\"\n",
        "\n",
        "    def __init__(self, text: list[str], n: int = 3, verbose: bool = False):\n",
        "        text = text.copy()\n",
        "        self.total = len(text)\n",
        "        self.prefix = defaultdict(lambda: 0)\n",
        "        pbar = tqdm.tqdm(total=(2 * n * (len(text) + 1) - n * (n + 1) // 2),\n",
        "                         disable=not verbose)\n",
        "        for k in range(1, n + 1):\n",
        "            for i in range(len(text) - k + 1):\n",
        "                gram = tuple(text[i:i+k])\n",
        "                self.prefix[gram] += 1\n",
        "                pbar.update()\n",
        "        text.reverse()\n",
        "        self.postfix = defaultdict(lambda: 0)\n",
        "        for k in range(1, n + 1):\n",
        "            for i in range(len(text) - k):\n",
        "                gram = tuple(text[i:i+k])\n",
        "                self.postfix[gram] += 1\n",
        "                pbar.update()\n",
        "        self.postfix[tuple()] = self.prefix[tuple()] = self.total\n",
        "        self.n = n\n",
        "        pbar.close()\n",
        "\n",
        "    @staticmethod\n",
        "    def from_counts(counts: dict[tuple[str], int], n: int = 3):\n",
        "        model = NGramLanguageModel([], n=n, verbose=False)\n",
        "        model.total = sum(counts.values())\n",
        "        model.prefix = defaultdict(lambda: 0)\n",
        "        model.postfix = defaultdict(lambda: 0)\n",
        "        for gram, count in counts.items():\n",
        "            for k in range(1, n + 1):\n",
        "                if len(gram) < k:\n",
        "                    continue\n",
        "                kgram = gram[:k]\n",
        "                model.prefix[kgram] += count\n",
        "                kgram = kgram[::-1]\n",
        "                model.postfix[kgram] += count\n",
        "        model.postfix[tuple()] = model.prefix[tuple()] = model.total\n",
        "        return model\n",
        "\n",
        "\n",
        "\n",
        "    def __call__(self, candidates: list[str], pretext: list[str],\n",
        "                 posttext: list[str]) -> dict[str, float]:\n",
        "        \"\"\"Predict the probability of the word using bigram data.\n",
        "\n",
        "        Args:\n",
        "            candidates (list[str]): Set of candidate replacements.\n",
        "            pretext (list[str]): Context preceeding the word.\n",
        "            posttext (list[str]): Context after the word.\n",
        "        \n",
        "        Returns:\n",
        "            dict[str, float]: Mapping from candidate set to the probability of\n",
        "                the candidate in the context.\n",
        "        \"\"\"\n",
        "        pretext = tuple(pretext[-self.n+1:])\n",
        "        posttext = tuple(posttext[:self.n - 1][::-1])\n",
        "        result = {}\n",
        "        for candidate in candidates:\n",
        "            prev_prob = (self.prefix[pretext + (candidate, )] +\n",
        "                         1) / (self.prefix[pretext] + 2)\n",
        "            next_prob = (self.postfix[posttext + (candidate, )] +\n",
        "                         1) / (self.postfix[posttext] + 2)\n",
        "            result[candidate] = prev_prob * next_prob\n",
        "        return result"
      ]
    },
    {
      "cell_type": "code",
      "execution_count": 8,
      "metadata": {},
      "outputs": [],
      "source": [
        "class LevensteinErrorModel(ErrorModel):\n",
        "    \"\"\"Error model based on Levenstein distance.\n",
        "    \"\"\"\n",
        "    def __init__(self, base: float = 4):\n",
        "        self.base = base\n",
        "\n",
        "    def __call__(self, word: str, candidate: str) -> float:\n",
        "        \"\"\"Calculate the probability of the word being a mispelling of the\n",
        "        candidate.\n",
        "\n",
        "        Args:\n",
        "            word (str): Word that is typed.\n",
        "            candidate (str): Candidate word.\n",
        "        \n",
        "        Returns:\n",
        "            float: Probability of word being a mispelling of candidate.\n",
        "        \"\"\"\n",
        "        word = word.lower()\n",
        "        candidate = candidate.lower()\n",
        "        dp = [[0] * (len(candidate) + 1) for _ in range(len(word) + 1)]\n",
        "        for i in range(len(candidate)):\n",
        "            dp[0][i + 1] = i + 1\n",
        "        for i in range(len(word)):\n",
        "            dp[i + 1][0] = i + 1\n",
        "        for i in range(1, len(word) + 1):\n",
        "            for j in range(1, len(candidate) + 1):\n",
        "                dp[i][j] = min(dp[i - 1][j], dp[i][j - 1]) + 1\n",
        "                if word[i - 1] == candidate[j - 1]:\n",
        "                    dp[i][j] = dp[i - 1][j - 1]\n",
        "        return pow(self.base, -dp[-1][-1])"
      ]
    },
    {
      "cell_type": "code",
      "execution_count": 9,
      "metadata": {},
      "outputs": [],
      "source": [
        "fivegrams = dict()\n",
        "with open('fivegrams.txt') as file:\n",
        "    for line in file:\n",
        "        count, *gram = line.split()\n",
        "        gram = tuple(gram)\n",
        "        count = int(count)\n",
        "        fivegrams[gram] = count\n",
        "bigrams = dict()\n",
        "with open('bigrams.txt', encoding='iso-8859-1') as file:\n",
        "    for line in file:\n",
        "        count, *gram = line.split()\n",
        "        gram = tuple(gram)\n",
        "        count = int(count)\n",
        "        bigrams[gram] = count"
      ]
    },
    {
      "cell_type": "code",
      "execution_count": 12,
      "metadata": {},
      "outputs": [],
      "source": [
        "fivegram_language_model = NGramLanguageModel.from_counts(fivegrams, n=5)"
      ]
    },
    {
      "cell_type": "code",
      "execution_count": 13,
      "metadata": {},
      "outputs": [],
      "source": [
        "bigram_language_model = NGramLanguageModel.from_counts(bigrams, n=2)"
      ]
    },
    {
      "cell_type": "code",
      "execution_count": 14,
      "metadata": {},
      "outputs": [],
      "source": [
        "error_model = LevensteinErrorModel(base=8)"
      ]
    },
    {
      "cell_type": "code",
      "execution_count": 36,
      "metadata": {},
      "outputs": [
        {
          "data": {
            "text/plain": [
              "67"
            ]
          },
          "execution_count": 36,
          "metadata": {},
          "output_type": "execute_result"
        }
      ],
      "source": [
        "bigram_language_model.postfix[('with','rabbit')]"
      ]
    },
    {
      "cell_type": "code",
      "execution_count": 45,
      "metadata": {},
      "outputs": [
        {
          "data": {
            "text/plain": [
              "1152"
            ]
          },
          "execution_count": 45,
          "metadata": {},
          "output_type": "execute_result"
        }
      ],
      "source": [
        "bigram_language_model.postfix[('rabbit',)]"
      ]
    },
    {
      "cell_type": "code",
      "execution_count": 46,
      "metadata": {},
      "outputs": [],
      "source": [
        "candidates = set(sorted({gram[0]\n",
        "                     for gram in bigrams.keys()},\n",
        "                    key=lambda w: bigram_language_model.prefix[(w, )],\n",
        "                    reverse=True)[:1000])"
      ]
    },
    {
      "cell_type": "code",
      "execution_count": 47,
      "metadata": {},
      "outputs": [],
      "source": [
        "corrector = Corrector(candidates, bigram_language_model, error_model, context_size=1)"
      ]
    },
    {
      "cell_type": "code",
      "execution_count": 48,
      "metadata": {},
      "outputs": [],
      "source": [
        "text = '''\n",
        "Alice was beginning to get vry tired of sitting by hr sister on th bank, and of having nothing to do: once or twice she had peeped into the book her sister was reading, but it had no pictures or conversations in it, “and what is the use of a book,” thought Alice “without pictures or conversations?”\n",
        "\n",
        "So she was considering in her own mind (as well as she could, for the hot day made her feel very sleepy and stupid), whether the pleasure of making a daisy-chain would be worth the trouble of getting up and picking the daisies, when suddenly a White Rabbit with pink eyes ran close by her.\n",
        "\n",
        "There was nothing so very remarkable in that; nor did Alice thnk it so very much out of the way to hear the Rabbit say to itself, “Oh dear! Oh dear! I shall be late!” (when she thought it over afterwards, it occurred to her that she ought to have wondered at this, but at the time it all seemed quite natural); but when the Rabbit actually took a watch out of its waistcoat-pocket, and looked at it, and then hurried on, Alice started to her feet, for it flashed across her mind that she had never before seen a rabbit with either a waistcoat-pocket, or a watch to take out of it, and burning with curiosity, she ran across the field after it, and fortunately was just in time to see it pop down a large rabbit-hole under the hedge.\n",
        "\n",
        "In another moment down went Alice after it, never once considering how in the world she was to get out again. \n",
        "'''.lower().split()[:]"
      ]
    },
    {
      "cell_type": "code",
      "execution_count": 49,
      "metadata": {},
      "outputs": [
        {
          "data": {
            "application/vnd.jupyter.widget-view+json": {
              "model_id": "56540228fe17468585bc1f6cd1778386",
              "version_major": 2,
              "version_minor": 0
            },
            "text/plain": [
              "  0%|          | 0/274 [00:00<?, ?it/s]"
            ]
          },
          "metadata": {},
          "output_type": "display_data"
        }
      ],
      "source": [
        "corrected = corrector(text, verbose=True)"
      ]
    },
    {
      "cell_type": "code",
      "execution_count": 50,
      "metadata": {},
      "outputs": [
        {
          "data": {
            "text/plain": [
              "[('i', 4.442490720283818e-06, 7.145980387068095e-10),\n",
              " ('is', 2.996321442392765e-05, 0.00392389553908069),\n",
              " ('going', 1.1695707087170082e-07, 1.086292883767947e-06),\n",
              " ('of', 2.5891017316550137e-05, 0.1240574102821677),\n",
              " ('be', 0.0004934602921534097, 0.009496700567203488),\n",
              " ('very', 2.53247544466677e-05, 1.7131751343100183e-10),\n",
              " ('third', 1.8299762065783533e-05, 0.00034300770725079297),\n",
              " ('to', 1.120010925405515e-05, 0.010341598020846431),\n",
              " ('it', 3.029829348176388e-08, 2.3232437940251553e-08),\n",
              " ('in', 3.218570635845926e-05, 0.0003587283081476167),\n",
              " ('her', 0.0007408599043334102, 5.574226885595463e-11),\n",
              " ('it', 1.191294019067089e-06, 1.69992194986266e-06),\n",
              " ('in', 0.006629862515302824, 0.01730078818140552),\n",
              " ('the', 0.04395141612525141, 1.490396686274937e-05),\n",
              " ('bank', 1.8090745056762649e-06, 2.1358612817901595e-09),\n",
              " ('end', 0.0002234544770762052, 0.0009831443364878168),\n",
              " ('to', 1.1065984420230272e-05, 0.00016981678504868257),\n",
              " ('that', 3.998081016133865e-08, 1.5866765424667643e-06),\n",
              " ('not', 3.652446599794579e-08, 3.1255303487726397e-06),\n",
              " ('of', 0.0008345929388682569, 0.09047137608985074),\n",
              " ('do', 9.102895749311244e-06, 7.48661832807435e-13),\n",
              " ('one', 0.0012704337796177146, 0.0007798199686379512),\n",
              " ('to', 3.567688434061611e-06, 0.0012973398025693573),\n",
              " ('if', 1.4114480016786899e-07, 9.281944388568319e-08),\n",
              " ('he', 0.0002606346825240384, 0.00029586201135430187),\n",
              " ('has', 2.454008431906196e-05, 0.0010468180440038471),\n",
              " ('people', 7.469481014208326e-09, 1.1981692985614173e-12),\n",
              " ('in', 9.653660729145348e-05, 0.00018185288087196614),\n",
              " ('a', 0.00016876836473841495, 0.18411193285000985),\n",
              " ('back', 5.006266151363163e-09, 3.3211672389416014e-08),\n",
              " ('the', 8.201100355183822e-05, 0.0002079704001143446),\n",
              " ('it', 3.8856404891266376e-07, 1.3543993124023597e-06),\n",
              " ('as', 0.0010780753517930096, 0.03453623846270237),\n",
              " ('reading', 3.876162220628883e-09, 1.9270487561852805e-13),\n",
              " ('about', 0.0007109735236629434, 0.02233675268596387),\n",
              " ('i', 0.0017853366255276121, 0.0020759859928428763),\n",
              " ('was', 4.366765131557975e-05, 0.0008398369870467688),\n",
              " ('to', 2.5261121555870452e-05, 0.000275338623029077),\n",
              " ('picture', 7.43238154607834e-09, 6.0976329401612e-08),\n",
              " ('of', 0.0021968456759870574, 4.852727221408246e-05),\n",
              " ('is', 1.2167335750538596e-11, 6.74683910020231e-10),\n",
              " ('i', 0.001935689560940062, 0.02149754053561669),\n",
              " ('the', 0.0005617361920967694, 7.037981169177583e-08),\n",
              " ('and', 0.006190747291672319, 4.677999275845712e-07),\n",
              " ('that', 0.0012373086531710822, 0.008993050805686008),\n",
              " ('in', 9.803293269775878e-06, 0.0007666656911062573),\n",
              " ('to', 9.601239949796779e-05, 0.010840814161211267),\n",
              " ('one', 2.797134545554739e-07, 5.836399495891233e-06),\n",
              " ('to', 4.481880666542144e-05, 0.013808090012534377),\n",
              " ('an', 0.0009033860180333955, 0.021422889364055526),\n",
              " ('book', 7.701552118749162e-10, 7.729571816584281e-13),\n",
              " ('though', 4.190412336573919e-05, 0.00016761649346295676),\n",
              " ('i', 0.00014184141623917868, 3.4992196740126952e-06),\n",
              " ('in', 4.8449337177102166e-08, 1.8886365460614848e-08),\n",
              " ('picture', 2.0521578122051346e-05, 8.335568845451783e-05),\n",
              " ('of', 0.012304577464788732, 0.005549295774647888),\n",
              " ('is', 2.9195749153794014e-12, 9.823948524386625e-13),\n",
              " ('as', 0.0009757271076738324, 0.004098071659094001),\n",
              " ('he', 0.0006728255299691104, 0.0007243039713315481),\n",
              " ('is', 6.648694637673909e-05, 0.005699906178844051),\n",
              " ('one', 3.122300305173752e-10, 8.727093666158438e-10),\n",
              " ('and', 2.5199226626174506e-06, 0.00017143750989203523),\n",
              " ('their', 0.00032025270351124225, 0.0017039094264224375),\n",
              " ('in', 5.3059095597810905e-05, 0.0004828247038466173),\n",
              " ('in', 0.00015414102995432437, 0.0025945588394623844),\n",
              " ('as', 0.004361676736831689, 1.2169063125378954e-10),\n",
              " ('we', 1.89255195890676e-05, 0.016633806276588115),\n",
              " ('and', 1.842057416549205e-05, 0.012909315226903828),\n",
              " ('he', 0.004268282079095358, 0.009529005906175073),\n",
              " ('could', 5.255793336036061e-07, 2.1510933767318183e-13),\n",
              " ('of', 0.0009166303380452026, 0.013978878592774609),\n",
              " ('a', 6.646665109075788e-05, 0.03269866013606553),\n",
              " ('one', 1.371331367633794e-06, 7.213774969885574e-07),\n",
              " ('and', 1.2717650611443632e-05, 2.183306606146492e-06),\n",
              " ('and', 4.353803773309046e-05, 2.0617981165201657e-06),\n",
              " ('the', 5.8142030444808777e-05, 0.0003144155320889007),\n",
              " ('a', 1.8480977439124058e-06, 5.128376589914105e-06),\n",
              " ('the', 3.6683105275173433e-05, 0.001061456620288823),\n",
              " ('deep', 1.3989625267435303e-09, 1.0198948825053525e-09),\n",
              " ('an', 0.0002314814814814815, 0.1037037037037037),\n",
              " ('to', 3.113385738990402e-09, 8.546786143562211e-13),\n",
              " ('with', 1.0575979875504726e-05, 0.0004126529237852093),\n",
              " ('a', 3.962738979088611e-05, 0.03869052307212752),\n",
              " ('part', 1.73073832172012e-09, 1.4085984305877958e-08),\n",
              " ('to', 0.00033177900924486993, 0.012084014463377228),\n",
              " ('in', 5.9491951429601335e-08, 9.79496593648284e-07),\n",
              " ('an', 0.002307347218581769, 0.0715164223642559),\n",
              " ('day', 3.250239506482883e-11, 1.1560115628286255e-13),\n",
              " ('could', 0.0014362760486966236, 0.049787146075026406),\n",
              " (\"n't\", 2.1569081233188613e-06, 0.015378126253419437),\n",
              " ('with', 1.5252039748481003e-06, 2.1085742817554216e-07),\n",
              " ('of', 3.309775240828024e-05, 0.01990535546330466),\n",
              " ('role', 2.0305929297425522e-08, 5.714405035287958e-09),\n",
              " ('to', 3.324085973123012e-05, 0.0011795477594176687),\n",
              " ('it', 1.5341234792701405e-08, 1.5984879053961e-06),\n",
              " ('out', 1.4053472658295273e-06, 9.117230846701247e-05),\n",
              " ('in', 2.503232345387499e-05, 0.0036328401126963015),\n",
              " ('in', 7.055476668743685e-07, 1.1350832781274204e-09),\n",
              " ('them', 0.0019046582498911623, 0.03346756639094471),\n",
              " ('time', 1.0979754907263305e-09, 4.970302262165925e-14),\n",
              " ('then', 0.001622392676503783, 0.011265309534757347),\n",
              " ('in', 2.311292986103952e-09, 5.4732938604234207e-08),\n",
              " ('and', 0.0001569571865443139, 0.004412158732311681),\n",
              " ('little', 3.545867938493523e-07, 0.000129091005018208),\n",
              " ('and', 2.638451651347162e-08, 2.2940023885514822e-08),\n",
              " ('in', 2.3678578561626372e-05, 0.004266333852128857),\n",
              " ('his', 9.481432599574492e-06, 1.9933731205432248e-09),\n",
              " ('and', 1.7389792927272238e-06, 4.790217341501707e-09),\n",
              " ('and', 0.00024192426008599115, 1.59483388979472e-10),\n",
              " ('out', 1.001856221054875e-07, 2.3865543708737537e-08),\n",
              " ('to', 0.0008084240439070747, 0.007685985437080225),\n",
              " ('her', 2.5346781468198934e-06, 9.108704802558644e-13),\n",
              " ('he', 0.000816810618184404, 0.024747000086495698),\n",
              " ('is', 0.00024153508200936943, 0.01400795974365981),\n",
              " ('not', 2.003736029144986e-06, 1.5981571758818407e-06),\n",
              " ('is', 0.00011171610466759456, 1.9071631611110223e-05),\n",
              " ('the', 6.448395767582993e-06, 2.1875904242982883e-05),\n",
              " ('early', 3.4246440406049105e-10, 4.033014591389353e-09),\n",
              " ('is', 0.0011609512145335783, 0.018983466013472138),\n",
              " ('the', 1.0407742008200461e-06, 5.433266043291453e-12),\n",
              " ('or', 0.0006406157342965923, 0.0018316577973966615),\n",
              " ('is', 1.8520580868821368e-05, 3.061571185651412e-05),\n",
              " ('a', 2.893113071193117e-05, 7.741579870653684e-07),\n",
              " ('and', 4.585957628677183e-06, 1.233752874489824e-10),\n",
              " ('is', 0.000867321944333516, 0.0037206181450077547),\n",
              " ('is', 0.00047356499804338404, 8.727326455838802e-06),\n",
              " ('as', 2.0816127443858992e-07, 0.0001996064398955627),\n",
              " ('up', 1.0272144530996337e-09, 4.806959356808795e-05),\n",
              " ('more', 2.0484659824049301e-07, 3.2472325636710275e-05),\n",
              " ('to', 0.00018431037513407664, 0.037944306764687095),\n",
              " ('their', 2.878209343796612e-05, 0.10893696047955663),\n",
              " ('day', 1.0830954384804177e-07, 4.5343703652669446e-05),\n",
              " ('you', 5.037972281236245e-05, 0.09642140894576401),\n",
              " ('be', 8.792948818194742e-07, 1.4935623321525093e-06),\n",
              " ('a', 0.00016620187800195233, 0.12403332914495675),\n",
              " ('i', 2.214014077812354e-09, 1.563070608101256e-10),\n",
              " ('is', 8.263702063377613e-06, 9.586475546543467e-07),\n",
              " ('it', 0.002202481424481623, 0.023821344056661538),\n",
              " ('the', 1.2375134819081166e-05, 4.803227153834301e-08),\n",
              " ('wo', 0.00390625, 0.25),\n",
              " ('and', 3.990228972843852e-06, 4.190763557120107e-05),\n",
              " ('wo', 0.015625, 0.25),\n",
              " ('and', 1.2051746921034523e-07, 2.2706535240841056e-11),\n",
              " ('it', 0.0026327559567374155, 0.1358868016589412),\n",
              " ('will', 9.381100686292137e-07, 1.3410165966705329e-06),\n",
              " ('we', 0.004996137269252663, 0.10953891192973896),\n",
              " ('a', 3.911532132132174e-05, 2.74898521210895e-07),\n",
              " ('when', 0.00475968568748384, 3.5613727809976543e-07),\n",
              " ('he', 0.015255722973776848, 0.041542735969878716),\n",
              " ('put', 5.463954862635879e-09, 4.397700470428688e-05),\n",
              " ('to', 8.541025785281657e-06, 0.00178479988508959),\n",
              " ('or', 8.994846129131626e-05, 0.0014423036227619729),\n",
              " ('and', 2.275052082892909e-09, 8.47406130463538e-13),\n",
              " ('that', 0.00022319351386562443, 0.06172839506172839),\n",
              " ('used', 2.4678343852665798e-09, 2.625664689900167e-07),\n",
              " ('on', 9.360800019757557e-05, 0.014480985875746064),\n",
              " ('be', 2.3160202277008416e-06, 1.2545177986595414e-05),\n",
              " ('what', 1.404389009843653e-06, 0.0003285576617849602),\n",
              " ('he', 0.0004683215970355594, 0.0002935732892500472),\n",
              " ('thought', 3.982973394436698e-07, 6.07807163303419e-07),\n",
              " ('not', 1.3438437491893831e-05, 0.08365393925684254),\n",
              " ('he', 8.663249714502888e-07, 0.0004054700876098729),\n",
              " ('worked', 1.2780202285507644e-08, 2.1799747410422488e-08),\n",
              " ('what', 0.004698713849214809, 0.007390037660768848),\n",
              " ('this', 1.516177859005858e-06, 3.0695292520182833e-13),\n",
              " ('out', 0.0001750279363986769, 0.0037602501532962226),\n",
              " ('to', 3.1419355946983495e-05, 0.0002181844052607382),\n",
              " ('this', 3.474309464030743e-05, 0.09078046065910778),\n",
              " ('times', 2.498477382759963e-08, 1.1291839010554e-05),\n",
              " ('to', 0.00018055807611224548, 0.00046952937981995456),\n",
              " ('had', 1.1342726836143045e-06, 9.965018724320631e-05),\n",
              " ('seem', 1.2520283796484036e-07, 2.7401012525242153e-06),\n",
              " ('to', 0.00025991480861432896, 0.00175846575657092),\n",
              " ('natural', 2.2841707372567427e-09, 9.549707811891267e-12),\n",
              " ('out', 7.934505434776653e-05, 0.013397636729644107),\n",
              " ('in', 7.4860758130292875e-06, 7.481648702963026e-05),\n",
              " ('a', 7.660310144680857e-05, 0.0946690912766218),\n",
              " ('it', 2.1697287204060342e-09, 5.22911401751904e-10),\n",
              " ('and', 4.351452900850204e-08, 1.6950372301144418e-06),\n",
              " ('to', 8.879599356993157e-06, 1.0872400769328355e-05),\n",
              " ('to', 0.00014699131511248194, 0.0029290199550099944),\n",
              " ('way', 1.6930069202958756e-07, 1.9221828755064947e-07),\n",
              " ('one', 3.7059364904216756e-07, 0.0012308620964996695),\n",
              " ('to', 0.00018183667120268444, 0.04582832531252131),\n",
              " ('it', 0.0009350751160401091, 0.003233708168946388),\n",
              " ('state', 3.782410688233932e-14, 1.9826016670168752e-13),\n",
              " ('had', 0.0003425985916693662, 0.044040169818076416),\n",
              " ('look', 2.269143940438928e-06, 1.732659031701585e-05),\n",
              " ('a', 0.0010443129699408366, 0.13967366285314828),\n",
              " ('it', 6.440064479915213e-06, 5.117746550903985e-14),\n",
              " ('can', 0.00012740608561453696, 0.1859490716779433),\n",
              " ('the', 0.0002982804713538506, 0.0005706904509261635),\n",
              " ('he', 3.374345215059708e-05, 0.00014703529788175068),\n",
              " ('to', 0.000257992380918629, 1.0302181528147311e-07),\n",
              " ('i', 0.00027214012756794653, 6.2594674445098215e-06),\n",
              " ('said', 1.9336799681966169e-07, 4.946534970358355e-07),\n",
              " ('on', 4.097268631352865e-05, 0.012026885781459613),\n",
              " ('the', 0.0031680345136847784, 0.003561448837753519),\n",
              " ('feet', 1.3721174335603224e-07, 2.547492055661878e-13),\n",
              " ('of', 0.0002233875384083725, 0.005442221184381902),\n",
              " ('i', 3.467975926102167e-06, 0.0002607296019605255),\n",
              " ('was', 7.25932342281813e-08, 3.326392850710487e-08),\n",
              " ('on', 9.17292025025887e-07, 0.00010290877562001182),\n",
              " ('the', 0.005516781781480413, 0.002860025506000757),\n",
              " ('in', 9.828539036617125e-06, 6.296395443436211e-06),\n",
              " ('what', 6.663026004005892e-06, 0.005979129944543024),\n",
              " ('he', 0.0009937806528102628, 0.0010031116495343609),\n",
              " ('has', 5.988923254607688e-05, 0.0045193243689015585),\n",
              " ('ever', 1.0881220360917723e-05, 0.00012933976471280753),\n",
              " ('be', 1.9906007532035246e-05, 2.4755849826458048e-05),\n",
              " ('in', 1.1590824801489506e-06, 5.89903009867474e-07),\n",
              " ('the', 0.00024397966735870933, 0.044065361256726034),\n",
              " ('bit', 7.265128208403906e-09, 2.3108111021405393e-09),\n",
              " ('in', 2.2116843210929617e-05, 0.0019259477753354225),\n",
              " ('her', 4.439014820932367e-07, 1.861917233799696e-07),\n",
              " ('as', 0.0019509842605988864, 0.031577447498794334),\n",
              " ('state', 1.3365559120166574e-13, 9.346591152618015e-14),\n",
              " ('for', 0.004286602990244209, 0.002837937687967122),\n",
              " ('to', 0.00010216641497746148, 0.0007646866220574048),\n",
              " ('way', 1.309618237583126e-07, 1.8121962244216132e-09),\n",
              " ('it', 2.549464977826822e-05, 0.002234121307069275),\n",
              " ('make', 3.4323795629958386e-06, 3.31500056056403e-05),\n",
              " ('one', 7.542375729830649e-07, 0.00022819787176359677),\n",
              " ('to', 0.0019253249201840166, 0.16170089745845798),\n",
              " ('it', 5.1709984332253386e-06, 9.048461130103474e-15),\n",
              " ('a', 0.0041731654783125375, 0.0457516339869281),\n",
              " ('in', 3.1452339490087104e-08, 4.112162261488772e-09),\n",
              " ('it', 0.00045491681521093286, 0.013443256090314914),\n",
              " ('it', 6.226338219442962e-11, 2.7953273086881977e-13),\n",
              " ('he', 0.015014882965769178, 0.0344608307400893),\n",
              " ('and', 1.1124385124897751e-05, 7.168867141833101e-06),\n",
              " ('to', 6.390707113032623e-07, 3.932341678486995e-05),\n",
              " ('a', 1.9538052752578735e-05, 0.40199729355975966),\n",
              " ('time', 1.726797031832855e-08, 4.4622740744014157e-07),\n",
              " ('at', 0.00011152667627974045, 0.0019226147560682527),\n",
              " ('it', 8.041262194003303e-06, 2.259208956234768e-13),\n",
              " ('an', 0.00011584800741427248, 0.0963855421686747),\n",
              " ('that', 2.4180197426553544e-09, 6.68287034805921e-12),\n",
              " ('i', 2.490092582362183e-05, 4.855000591534753e-05),\n",
              " ('out', 1.784466161252959e-07, 1.4310033048174266e-05),\n",
              " ('a', 0.00010714250392668003, 0.0004240317692892108),\n",
              " ('me', 1.6851540762546103e-07, 1.0794810611774768e-05),\n",
              " ('i', 4.7099146270368834e-05, 0.05525032391139016),\n",
              " ('be', 1.1295982921984985e-06, 8.983421451398743e-05),\n",
              " ('the', 0.00022174611138636683, 0.00020113304941555776),\n",
              " ('is', 9.929618673917338e-07, 4.107835848508346e-11),\n",
              " ('on', 1.0882955420552803e-05, 1.3432529290557008e-07),\n",
              " ('at', 0.0004707193960289349, 0.01984942569555081),\n",
              " ('place', 4.865495821787012e-06, 0.0021958535957703187),\n",
              " ('and', 6.339424315317118e-11, 7.859692328898097e-11),\n",
              " ('and', 6.535181402982749e-05, 0.0014370735587173633),\n",
              " ('her', 0.000754160940139374, 0.19183008712394123),\n",
              " ('head', 2.3267105557654554e-09, 6.3843559177981435e-15),\n",
              " ('is', 0.0014977770931783752, 0.03184423542180116),\n",
              " ('the', 0.0005180189070447365, 1.0811539439499462e-05),\n",
              " ('on', 6.378426697401463e-08, 6.156389784206983e-09),\n",
              " ('i', 5.809646925376471e-06, 1.306887796953989e-10),\n",
              " ('to', 3.507856157206354e-05, 1.1338731111333674e-09),\n",
              " ('back', 1.9966318136722253e-07, 1.4839651759910937e-11),\n",
              " ('later', 1.0476030841434798e-05, 0.00016761649346295676),\n",
              " ('i', 8.593601544628557e-05, 9.470263610275137e-12),\n",
              " ('every', 0.00028640455129953627, 0.0035498577718894907),\n",
              " ('be', 2.5425780247422723e-06, 3.095397784659482e-07),\n",
              " ('and', 1.4369149617439787e-09, 7.161330040987216e-09),\n",
              " ('that', 6.451098281963431e-07, 5.559046005981902e-06),\n",
              " ('to', 2.505891599037473e-05, 0.00016714584649475575),\n",
              " ('a', 2.5142023355002313e-05, 0.31102660468458515),\n",
              " ('word', 4.241455654397689e-08, 1.2200828179057287e-06),\n",
              " ('he', 8.84594779469713e-05, 7.721002620055346e-05),\n",
              " ('has', 5.9472351199631675e-06, 0.0004499874502990247),\n",
              " (\"n't\", 4.354179284307644e-05, 0.005615749562410536),\n",
              " ('be', 6.863711497234259e-06, 0.0005124479692174838),\n",
              " ('to', 0.0004898230507381109, 0.021503189664844765),\n",
              " ('in', 3.966489647013295e-06, 4.383290814190351e-15)]"
            ]
          },
          "execution_count": 50,
          "metadata": {},
          "output_type": "execute_result"
        }
      ],
      "source": [
        "corrected"
      ]
    },
    {
      "cell_type": "code",
      "execution_count": 51,
      "metadata": {},
      "outputs": [],
      "source": [
        "words = [\n",
        "    orig if 10 * op > cp else cor for orig, (cor, cp, op) in zip(text, corrected)\n",
        "]"
      ]
    },
    {
      "cell_type": "code",
      "execution_count": 52,
      "metadata": {},
      "outputs": [],
      "source": [
        "import textwrap"
      ]
    },
    {
      "cell_type": "code",
      "execution_count": 53,
      "metadata": {},
      "outputs": [
        {
          "name": "stdout",
          "output_type": "stream",
          "text": [
            "i was beginning to get very tired of sitting by her sister on the bank\n",
            "and of having nothing to do once or twice she had people into the book\n",
            "her sister was reading but it had no pictures of conversations in the\n",
            "and what is the use of a book thought i “without pictures or\n",
            "conversations?” so she was considering in her own mind as well as she\n",
            "could for the hot day and her feel very sleepy and to whether the\n",
            "pleasure of making a day would be worth the trouble of getting up and\n",
            "in the time when suddenly a white rabbit with his and and close by her\n",
            "there was nothing so very remarkable in the nor did a and it is very\n",
            "much out of the way to hear the i say to the “oh dear! oh and i shall\n",
            "be a when she thought it over and it occurred to her that she ought to\n",
            "have wondered at this but at the time it all seemed quite natural but\n",
            "when the rabbit actually took a watch out of its waistcoat-pocket, and\n",
            "looked at it and then hurried to i started to her feet for it flashed\n",
            "across her mind that she had never before seen a rabbit with either a\n",
            "waistcoat-pocket, or a way to take out of it and burning with it she\n",
            "ran across the field after it and that was just in time to see it is\n",
            "on a large rabbit-hole under the head in the on i to back after i\n",
            "never once considering how in the world she was to get out in\n"
          ]
        }
      ],
      "source": [
        "print(*textwrap.wrap(' '.join(words)), sep='\\n')"
      ]
    },
    {
      "cell_type": "code",
      "execution_count": 54,
      "metadata": {},
      "outputs": [
        {
          "name": "stdout",
          "output_type": "stream",
          "text": [
            "alice was beginning to get vry tired of sitting by hr sister on th\n",
            "bank, and of having nothing to do: once or twice she had peeped into\n",
            "the book her sister was reading, but it had no pictures or\n",
            "conversations in it, “and what is the use of a book,” thought alice\n",
            "“without pictures or conversations?” so she was considering in her own\n",
            "mind (as well as she could, for the hot day made her feel very sleepy\n",
            "and stupid), whether the pleasure of making a daisy-chain would be\n",
            "worth the trouble of getting up and picking the daisies, when suddenly\n",
            "a white rabbit with pink eyes ran close by her. there was nothing so\n",
            "very remarkable in that; nor did alice thnk it so very much out of the\n",
            "way to hear the rabbit say to itself, “oh dear! oh dear! i shall be\n",
            "late!” (when she thought it over afterwards, it occurred to her that\n",
            "she ought to have wondered at this, but at the time it all seemed\n",
            "quite natural); but when the rabbit actually took a watch out of its\n",
            "waistcoat-pocket, and looked at it, and then hurried on, alice started\n",
            "to her feet, for it flashed across her mind that she had never before\n",
            "seen a rabbit with either a waistcoat-pocket, or a watch to take out\n",
            "of it, and burning with curiosity, she ran across the field after it,\n",
            "and fortunately was just in time to see it pop down a large rabbit-\n",
            "hole under the hedge. in another moment down went alice after it,\n",
            "never once considering how in the world she was to get out again.\n"
          ]
        }
      ],
      "source": [
        "print(*textwrap.wrap(' '.join(text)), sep='\\n')"
      ]
    },
    {
      "cell_type": "markdown",
      "metadata": {
        "id": "oML-5sJwGRLE"
      },
      "source": [
        "## Justify your decisions\n",
        "\n",
        "Write down justificaitons for your implementation choices. For example, these choices could be:\n",
        "- Which ngram dataset to use\n",
        "- Which weights to assign for edit1, edit2 or absent words probabilities\n",
        "- Beam search parameters\n",
        "- etc."
      ]
    },
    {
      "cell_type": "markdown",
      "metadata": {
        "id": "6Xb_twOmVsC6"
      },
      "source": [
        "*Your text here...*"
      ]
    },
    {
      "cell_type": "markdown",
      "metadata": {
        "id": "46rk65S4GRSe"
      },
      "source": [
        "## Evaluate on a test set\n",
        "\n",
        "Your task is to generate a test set and evaluate your work. You may vary the noise probability to generate different datasets with varying compexity. Compare your solution to the Norvig's corrector, and report the accuracies."
      ]
    },
    {
      "cell_type": "code",
      "execution_count": 23,
      "metadata": {
        "id": "OwZWaX9VVs7B"
      },
      "outputs": [],
      "source": [
        "# Your code here"
      ]
    }
  ],
  "metadata": {
    "colab": {
      "provenance": []
    },
    "kernelspec": {
      "display_name": "Python 3",
      "name": "python3"
    },
    "language_info": {
      "codemirror_mode": {
        "name": "ipython",
        "version": 3
      },
      "file_extension": ".py",
      "mimetype": "text/x-python",
      "name": "python",
      "nbconvert_exporter": "python",
      "pygments_lexer": "ipython3",
      "version": "3.11.8"
    }
  },
  "nbformat": 4,
  "nbformat_minor": 0
}
